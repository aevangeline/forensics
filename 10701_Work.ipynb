{
  "nbformat": 4,
  "nbformat_minor": 0,
  "metadata": {
    "colab": {
      "name": "10701 - Work",
      "provenance": [],
      "collapsed_sections": [],
      "include_colab_link": true
    },
    "kernelspec": {
      "name": "python3",
      "display_name": "Python 3"
    },
    "accelerator": "GPU"
  },
  "cells": [
    {
      "cell_type": "markdown",
      "metadata": {
        "id": "view-in-github",
        "colab_type": "text"
      },
      "source": [
        "<a href=\"https://colab.research.google.com/github/aevangeline/forensics/blob/master/10701_Work.ipynb\" target=\"_parent\"><img src=\"https://colab.research.google.com/assets/colab-badge.svg\" alt=\"Open In Colab\"/></a>"
      ]
    },
    {
      "cell_type": "markdown",
      "metadata": {
        "id": "GbNn34dodj8B",
        "colab_type": "text"
      },
      "source": [
        "\n",
        "Aurelia and Caroline - 10701"
      ]
    },
    {
      "cell_type": "code",
      "metadata": {
        "id": "Ei2_bEpaR2FO",
        "colab_type": "code",
        "outputId": "83d084a3-75bc-4f0f-c3b4-3ec37795aea9",
        "colab": {
          "base_uri": "https://localhost:8080/",
          "height": 86
        }
      },
      "source": [
        "!nvcc --version"
      ],
      "execution_count": 1,
      "outputs": [
        {
          "output_type": "stream",
          "text": [
            "nvcc: NVIDIA (R) Cuda compiler driver\n",
            "Copyright (c) 2005-2019 NVIDIA Corporation\n",
            "Built on Sun_Jul_28_19:07:16_PDT_2019\n",
            "Cuda compilation tools, release 10.1, V10.1.243\n"
          ],
          "name": "stdout"
        }
      ]
    },
    {
      "cell_type": "code",
      "metadata": {
        "id": "s08zJMHfRgvB",
        "colab_type": "code",
        "outputId": "4c204ff4-2d0d-496f-8fb8-350c5c83591f",
        "colab": {
          "base_uri": "https://localhost:8080/",
          "height": 159
        }
      },
      "source": [
        "!pip install --extra-index-url https://developer.download.nvidia.com/compute/redist/cuda/10.0 nvidia-dali"
      ],
      "execution_count": 3,
      "outputs": [
        {
          "output_type": "stream",
          "text": [
            "Looking in indexes: https://pypi.org/simple, https://developer.download.nvidia.com/compute/redist/cuda/10.0\n",
            "Collecting nvidia-dali\n",
            "\u001b[?25l  Downloading https://developer.download.nvidia.com/compute/redist/cuda/10.0/nvidia-dali/nvidia_dali-0.15.0-947079-cp36-cp36m-manylinux1_x86_64.whl (43.3MB)\n",
            "\u001b[K     |████████████████████████████████| 43.3MB 202kB/s \n",
            "\u001b[?25hRequirement already satisfied: future in /usr/local/lib/python3.6/dist-packages (from nvidia-dali) (0.16.0)\n",
            "Installing collected packages: nvidia-dali\n",
            "Successfully installed nvidia-dali-0.15.0\n"
          ],
          "name": "stdout"
        }
      ]
    },
    {
      "cell_type": "code",
      "metadata": {
        "id": "VhJoenqRRrGv",
        "colab_type": "code",
        "colab": {}
      },
      "source": [
        "from zipfile import ZipFile\n",
        "import pathlib\n",
        "from urllib.request import urlretrieve\n",
        "import os\n",
        "from os import remove\n",
        "import os.path\n",
        "import numpy as np\n",
        "import pandas as pd\n",
        "import shutil as sh\n",
        "import torch\n",
        "import glob\n",
        "from torch import nn\n",
        "from torch import optim\n",
        "import torch.nn.functional as F\n",
        "from torchvision import datasets, transforms, models\n",
        "from torch.utils.data.sampler import SubsetRandomSampler\n",
        "import nvidia.dali.ops as ops\n",
        "import nvidia.dali.types as types\n",
        "from nvidia.dali.pipeline import Pipeline\n",
        "from random import random"
      ],
      "execution_count": 0,
      "outputs": []
    },
    {
      "cell_type": "code",
      "metadata": {
        "id": "EsHAEto1543H",
        "colab_type": "code",
        "colab": {}
      },
      "source": [
        "FID_DIRECTORY = pathlib.Path(\"FID-300\")\n",
        "FID_LABELS = FID_DIRECTORY / \"label_table.csv\"\n",
        "FID_SOURCE_URL = \"https://fid.dmi.unibas.ch/FID-300.zip\"\n",
        "TRAIN_DIR = \"FID-300/tracks_cropped/\"\n",
        "NUM_EPOCHS = 10\n",
        "db_folder = pathlib.Path(\"test/\")"
      ],
      "execution_count": 0,
      "outputs": []
    },
    {
      "cell_type": "code",
      "metadata": {
        "id": "ojc6z_bs-Q1J",
        "colab_type": "code",
        "colab": {}
      },
      "source": [
        "class ExternalInputIterator(object):\n",
        "    def __init__(self, batch_size, image_dir, repeat = 1000):\n",
        "        self.images_dir = pathlib.Path(image_dir)\n",
        "        self.images = list(glob.iglob(str(self.images_dir/\"*.jpg\")))\n",
        "        self.batch_size = batch_size \n",
        "        self.i = 0\n",
        "        self.repeat = 1000\n",
        "        self.reps = 0\n",
        "        \n",
        "\n",
        "    def __iter__(self):\n",
        "        self.i = 0\n",
        "        self.reps = 0\n",
        "        self.n = len(self.files)\n",
        "        return self\n",
        "\n",
        "    def __increment(self):\n",
        "      self.reps += 1\n",
        "      if self.reps >= self.repeat:\n",
        "        self.reps = 0\n",
        "        self.i += 1\n",
        "\n",
        "    def __next__(self):\n",
        "        batch = []\n",
        "        labels = []\n",
        "        for _ in range(self.batch_size):\n",
        "          if self.i >= len(self.images):\n",
        "            raise StopIteration \n",
        "          fname = pathlib.Path(self.images[self.i])\n",
        "          label = np.array(fname.stem, dtype = np.uint8)\n",
        "          f = open(fname, 'rb')\n",
        "          batch.append(np.frombuffer(f.read(), dtype = np.uint8))\n",
        "          labels.append(label)\n",
        "          self.__increment()\n",
        "        return (batch, labels)\n",
        "\n",
        "    next = __next__"
      ],
      "execution_count": 0,
      "outputs": []
    },
    {
      "cell_type": "code",
      "metadata": {
        "id": "v3eIOKVQSMwx",
        "colab_type": "code",
        "colab": {}
      },
      "source": [
        "class AugmentationPipeline(Pipeline):\n",
        "    def __init__(self, batch_size, num_threads, device_id,\n",
        "                 examples_per_image = 1000, folder = db_folder,\n",
        "                 pipelined = True, exec_async = True):\n",
        "        super(AugmentationPipeline, self).__init__(batch_size, num_threads,\n",
        "                                                   device_id, seed = 12,\n",
        "                                                   exec_pipelined=pipelined,\n",
        "                                                   exec_async=exec_async)\n",
        "        self.data_iterator = ExternalInputIterator(batch_size,\n",
        "                                                   folder,\n",
        "                                                   examples_per_image)\n",
        "        self.input = ops.ExternalSource()\n",
        "        self.input_label = ops.ExternalSource()\n",
        "        self.decode = ops.ImageDecoderRandomCrop(device = \"mixed\", output_type = types.GRAY,\n",
        "            random_aspect_ratio=[0.8, 1.25],\n",
        "            random_area=[0.3, 1.0],\n",
        "            num_attempts=100)\n",
        "        self.augmentations = {}\n",
        "        self.examples_per_image = examples_per_image\n",
        "        # input is sampled randomly for output pixel's neighbourhood\n",
        "        self.augmentations[\"jitter\"] = (0.3, ops.Jitter(device = \"gpu\"))\n",
        "        # transforms sampling coordinates to produce wavy patterns\n",
        "        self.augmentations[\"water\"] = (0.2, ops.Water(device = \"gpu\"))\n",
        "        # applies fisheye distortion\n",
        "        self.augmentations[\"sphere\"] = (0.3, ops.Sphere(device = \"gpu\"))\n",
        "        # rotates the image, enlarging the canvas\n",
        "        self.rotation_rng = ops.Uniform(range=(-180.00, 180.00))\n",
        "        self.rotate = ops.Rotate(device = \"gpu\",\n",
        "                                 interp_type = types.INTERP_LINEAR,\n",
        "                                 fill_value = 0)\n",
        "        # param resizes the image so that the shorter edge is exactly 400px long\n",
        "        self.resize = ops.Resize(device = \"gpu\", resize_x = 300, resize_y = 300)\n",
        "        # param flips the image\n",
        "        self.flip_rng = ops.CoinFlip()\n",
        "        self.flip = ops.Flip(device = \"gpu\")\n",
        "        self.bri_con_rng = ops.Uniform(range = (.5, 2))\n",
        "        self.saturation_rng = ops.Uniform(range = (.2, 1))\n",
        "        self.color_twist = ops.ColorTwist(device = \"gpu\")\n",
        "        self.iter = 0\n",
        "\n",
        "    def define_graph(self):\n",
        "        self.jpegs = self.input()\n",
        "        self.labels = self.input_label()\n",
        "        output_labels = []\n",
        "        images = self.decode(self.jpegs).gpu()\n",
        "        transformed = images\n",
        "        for thresh, op in self.augmentations.values():\n",
        "          if random() < thresh:\n",
        "            transformed = op(images)\n",
        "        transformed = self.flip(transformed,\n",
        "                                vertical = self.flip_rng(),\n",
        "                                horizontal = self.flip_rng())\n",
        "        transformed = self.rotate(transformed, angle = self.rotation_rng())\n",
        "        transformed = self.color_twist(transformed, brightness=self.bri_con_rng(),\n",
        "                                        contrast=self.bri_con_rng(),\n",
        "                                        saturation=self.saturation_rng())\n",
        "        transformed = self.resize(transformed)\n",
        "        return (transformed, self.labels)\n",
        "\n",
        "\n",
        "    def iter_setup(self):\n",
        "      # the external data iterator is consumed here and fed as input to Pipeline\n",
        "      images, labels = self.data_iterator.next()\n",
        "      self.feed_input(self.jpegs, images)\n",
        "      self.feed_input(self.labels, labels)\n",
        "      \n"
      ],
      "execution_count": 0,
      "outputs": []
    },
    {
      "cell_type": "code",
      "metadata": {
        "id": "4gN5XYscHM8a",
        "colab_type": "code",
        "colab": {}
      },
      "source": [
        "\n",
        "\n",
        "batch_size = 32\n",
        "\n",
        "pipe = AugmentationPipeline(batch_size=batch_size, examples_per_image= 5,\n",
        "                            num_threads=4, device_id = 0)\n",
        "pipe.build()\n",
        "\n"
      ],
      "execution_count": 0,
      "outputs": []
    },
    {
      "cell_type": "code",
      "metadata": {
        "id": "8szLjA1VT11e",
        "colab_type": "code",
        "colab": {}
      },
      "source": [
        "pipe_out = pipe.run()"
      ],
      "execution_count": 0,
      "outputs": []
    },
    {
      "cell_type": "code",
      "metadata": {
        "id": "o8r2lin8ffu0",
        "colab_type": "code",
        "colab": {}
      },
      "source": [
        ""
      ],
      "execution_count": 0,
      "outputs": []
    }
  ]
}